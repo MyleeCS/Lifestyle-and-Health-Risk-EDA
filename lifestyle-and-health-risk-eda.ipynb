{
 "cells": [
  {
   "cell_type": "markdown",
   "id": "70a6b2cd",
   "metadata": {},
   "source": [
    "# Lifestyle and Health Risk EDA"
   ]
  },
  {
   "cell_type": "code",
   "execution_count": null,
   "id": "bc5eea75",
   "metadata": {},
   "outputs": [],
   "source": [
    "#Importing the data for setup!\n",
    "# import kagglehub\n",
    "\n",
    "# # Download latest version\n",
    "# path = kagglehub.dataset_download(\"miadul/lifestyle-and-health-risk-prediction\")\n",
    "\n",
    "# print(\"Path to dataset files:\", path)"
   ]
  }
 ],
 "metadata": {
  "kernelspec": {
   "display_name": "base",
   "language": "python",
   "name": "python3"
  },
  "language_info": {
   "codemirror_mode": {
    "name": "ipython",
    "version": 3
   },
   "file_extension": ".py",
   "mimetype": "text/x-python",
   "name": "python",
   "nbconvert_exporter": "python",
   "pygments_lexer": "ipython3",
   "version": "3.13.5"
  }
 },
 "nbformat": 4,
 "nbformat_minor": 5
}
